{
 "cells": [
  {
   "cell_type": "code",
   "execution_count": 1,
   "id": "7cf289e7",
   "metadata": {},
   "outputs": [
    {
     "name": "stdout",
     "output_type": "stream",
     "text": [
      "Descrição do órgão do empenho                   object\n",
      "Descrição do órgão executor                     object\n",
      "Descrição da natureza                           object\n",
      "Descrição do elemento de despesa                object\n",
      "Data do pagamento                               object\n",
      "Vl pago                                        float64\n",
      "Favorecido                                      object\n",
      "Descrição do tipo de favorecido                 object\n",
      "Descrição do programa de trabalho               object\n",
      "Descrição da fonte de recursos                  object\n",
      "Descrição da unidade orçamentária executora     object\n",
      "Descrição de programa                           object\n",
      "dtype: object\n"
     ]
    }
   ],
   "source": [
    "import pandas as pd\n",
    "import numpy as np\n",
    "from IPython.display import display\n",
    "\n",
    "despesas = pd.read_csv('teste.csv', encoding='ISO-8859-1',low_memory=False)\n",
    "\n",
    "df = pd.DataFrame(despesas)\n",
    "\n",
    "\n",
    "colunas = ['Descrição do órgão do empenho','Descrição do órgão executor','Descrição da natureza','Descrição do elemento de despesa','Data do pagamento',\n",
    "           'Vl pago','Favorecido','Descrição do tipo de favorecido','Descrição do programa de trabalho','Descrição da fonte de recursos','Descrição da unidade orçamentária executora','Descrição de programa']\n",
    "\n",
    "\n",
    "df = df.loc[:, colunas]\n",
    "print(df.dtypes)\n",
    "\n",
    "\n"
   ]
  },
  {
   "cell_type": "code",
   "execution_count": null,
   "id": "54be7ec0",
   "metadata": {},
   "outputs": [],
   "source": []
  }
 ],
 "metadata": {
  "kernelspec": {
   "display_name": "Python 3",
   "language": "python",
   "name": "python3"
  },
  "language_info": {
   "codemirror_mode": {
    "name": "ipython",
    "version": 3
   },
   "file_extension": ".py",
   "mimetype": "text/x-python",
   "name": "python",
   "nbconvert_exporter": "python",
   "pygments_lexer": "ipython3",
   "version": "3.8.8"
  }
 },
 "nbformat": 4,
 "nbformat_minor": 5
}
